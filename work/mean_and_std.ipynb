{
 "cells": [
  {
   "cell_type": "code",
   "execution_count": null,
   "metadata": {},
   "outputs": [],
   "source": [
    "#!/usr/bin/env python"
   ]
  },
  {
   "cell_type": "code",
   "execution_count": 33,
   "metadata": {},
   "outputs": [],
   "source": [
    "from PIL import Image\n",
    "\n",
    "import matplotlib.pyplot as plt\n",
    "import numpy as np\n",
    "import os\n",
    "import pickle\n",
    "import scipy\n",
    "\n",
    "# Allow image embeding in notebook\n",
    "%matplotlib inline"
   ]
  },
  {
   "cell_type": "code",
   "execution_count": null,
   "metadata": {},
   "outputs": [],
   "source": [
    "image_width = image_height = 224\n",
    "\n",
    "image_dir = '/home/joeantol/work/project-x/data/testimages/gunks/trapps'\n",
    "image_file = os.path.join(image_dir, 'missbailey_20180310_152947_020.jpg')\n",
    "# image_file = os.path.join(image_dir, 'missbailey-1.jpg')"
   ]
  },
  {
   "cell_type": "code",
   "execution_count": null,
   "metadata": {},
   "outputs": [],
   "source": [
    "# image = Image.open(image_file).convert(\"RGB\").resize((image_width, image_height))\n",
    "image = Image.open(image_file).convert(\"RGB\").rotate(-90).resize((image_width, image_height))\n",
    "\n",
    "img = np.array(image)"
   ]
  },
  {
   "cell_type": "code",
   "execution_count": null,
   "metadata": {},
   "outputs": [],
   "source": [
    "np.mean(img), np.std(img)"
   ]
  },
  {
   "cell_type": "code",
   "execution_count": null,
   "metadata": {},
   "outputs": [],
   "source": [
    "plt.imshow(img)"
   ]
  },
  {
   "cell_type": "code",
   "execution_count": null,
   "metadata": {},
   "outputs": [],
   "source": [
    "img_bw = img\n",
    "img_bw[:] = img_bw.mean(axis=-1,keepdims=1) \n",
    "np.mean(img_bw), np.std(img_bw)"
   ]
  },
  {
   "cell_type": "code",
   "execution_count": null,
   "metadata": {},
   "outputs": [],
   "source": [
    "plt.imshow(img_bw)"
   ]
  },
  {
   "cell_type": "code",
   "execution_count": null,
   "metadata": {},
   "outputs": [],
   "source": [
    "img_bw[1]"
   ]
  },
  {
   "cell_type": "code",
   "execution_count": 36,
   "metadata": {},
   "outputs": [
    {
     "data": {
      "text/plain": [
       "(4632,\n",
       " array([[[[133.34229, 129.93594, 129.0606 ]]]], dtype=float32),\n",
       " array([[[[51.590473, 53.39778 , 55.293858]]]], dtype=float32),\n",
       " 130.7796,\n",
       " 53.42737)"
      ]
     },
     "execution_count": 36,
     "metadata": {},
     "output_type": "execute_result"
    }
   ],
   "source": [
    "stats_file = '/home/joeantol/work/project-x/data/union/gunks/trapps/trainval/training/train_stats_color.pk'\n",
    "\n",
    "with open(stats_file, 'rb') as f:\n",
    "    num_samples = pickle.load(f)\n",
    "    sample_mean = pickle.load(f)\n",
    "    sample_std  = pickle.load(f)\n",
    "    \n",
    "num_samples, sample_mean, sample_std, sample_mean.mean(), sample_std.mean()"
   ]
  }
 ],
 "metadata": {
  "kernelspec": {
   "display_name": "python363",
   "language": "python",
   "name": "python363"
  },
  "language_info": {
   "codemirror_mode": {
    "name": "ipython",
    "version": 3
   },
   "file_extension": ".py",
   "mimetype": "text/x-python",
   "name": "python",
   "nbconvert_exporter": "python",
   "pygments_lexer": "ipython3",
   "version": "3.6.3"
  }
 },
 "nbformat": 4,
 "nbformat_minor": 2
}
