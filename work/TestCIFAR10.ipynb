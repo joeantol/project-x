{
 "cells": [
  {
   "cell_type": "code",
   "execution_count": null,
   "metadata": {},
   "outputs": [],
   "source": [
    "#!/usr/bin/env python"
   ]
  },
  {
   "cell_type": "code",
   "execution_count": 1,
   "metadata": {},
   "outputs": [
    {
     "name": "stderr",
     "output_type": "stream",
     "text": [
      "Using TensorFlow backend.\n"
     ]
    }
   ],
   "source": [
    "import argparse\n",
    "import csv\n",
    "import warnings\n",
    "\n",
    "with warnings.catch_warnings():\n",
    "    warnings.simplefilter(\"ignore\")\n",
    "    import keras\n",
    "    \n",
    "warnings.filterwarnings(\"ignore\", message=\"numpy.dtype size changed\")\n",
    "warnings.filterwarnings(\"ignore\", message=\"numpy.ufunc size changed\")\n",
    "\n",
    "from keras import backend as K\n",
    "from keras.models import load_model\n",
    "from keras.utils import np_utils\n",
    "\n",
    "from keras.callbacks import EarlyStopping\n",
    "from keras.callbacks import History \n",
    "\n",
    "from keras.datasets import cifar10\n",
    "\n",
    "from keras.preprocessing.image import ImageDataGenerator\n",
    "\n",
    "from keras.models import Sequential\n",
    "from keras.layers import Dense, Dropout, Activation, Flatten\n",
    "from keras.layers import Conv2D, MaxPooling2D\n",
    "\n",
    "from keras.optimizers import Adam\n",
    "from keras.optimizers import RMSprop\n",
    "from keras.optimizers import rmsprop\n",
    "from keras.optimizers import SGD\n",
    "\n",
    "from PIL import Image\n",
    "\n",
    "from random import shuffle\n",
    "\n",
    "import skimage.data\n",
    "from sklearn.model_selection import train_test_split\n",
    "\n",
    "import os\n",
    "\n",
    "from keras_sequential_ascii import sequential_model_to_ascii_printout\n",
    "\n",
    "import matplotlib.pyplot as plt\n",
    "import numpy as np\n",
    "import os\n",
    "import pickle\n",
    "import sys\n",
    "\n",
    "# Allow image embeding in notebook\n",
    "%matplotlib inline"
   ]
  },
  {
   "cell_type": "code",
   "execution_count": 2,
   "metadata": {},
   "outputs": [
    {
     "name": "stdout",
     "output_type": "stream",
     "text": [
      "Loaded trained model from /home/joeantol/joeantolwork/project-x/saved_models/cifar10 \n"
     ]
    }
   ],
   "source": [
    "cwd = os.getcwd()\n",
    "save_dir = os.path.join(os.getcwd(), 'saved_models')\n",
    "model_dir = 'cifar10'\n",
    "model_path = os.path.join(save_dir, model_dir)\n",
    "\n",
    "model = load_model(os.path.join(model_path, 'cifar10_normal_rms_ep75_mean_std.h5'))\n",
    "print('Loaded trained model from %s ' % model_path)"
   ]
  },
  {
   "cell_type": "code",
   "execution_count": null,
   "metadata": {},
   "outputs": [],
   "source": []
  },
  {
   "cell_type": "code",
   "execution_count": 3,
   "metadata": {},
   "outputs": [],
   "source": [
    "label_map = ['airplanes', 'cars', 'birds', 'cats', 'deer', 'dogs', 'frogs', 'horses', 'ships', 'trucks']\n",
    "width = height = 32"
   ]
  },
  {
   "cell_type": "code",
   "execution_count": null,
   "metadata": {},
   "outputs": [],
   "source": []
  },
  {
   "cell_type": "code",
   "execution_count": 38,
   "metadata": {},
   "outputs": [],
   "source": [
    "cifar = True\n",
    "\n",
    "if cifar:\n",
    "    image_dir = 'data/testimages/cifar10'\n",
    "else:\n",
    "    image_dir = 'data/testimages/non-cifar10'\n",
    "\n",
    "(x_train, y_train), (x_test, y_test) = cifar10.load_data()\n",
    "\n",
    "x_train = x_train.astype('float32')\n",
    "x_test = x_test.astype('float32')\n",
    "\n",
    "mean = np.mean(x_train,axis=(0,1,2,3))\n",
    "std = np.std(x_train,axis=(0,1,2,3))\n",
    "x_train = (x_train-mean)/(std+1e-7)\n",
    "x_test = (x_test-mean)/(std+1e-7)\n",
    "\n",
    "images = []\n",
    "object_list = os.listdir(image_dir)\n",
    "# object_list = ['airplanes', 'cars', 'birds', 'cats', 'dogs']\n",
    "\n",
    "for obj in object_list:\n",
    "    objs = [obj+'/' + s for s in os.listdir(os.path.join(image_dir, obj))]\n",
    "    images += objs\n",
    "\n",
    "shuffle(images)\n",
    "\n",
    "gtruths = [s.split('/')[-2] for s in images]"
   ]
  },
  {
   "cell_type": "code",
   "execution_count": 37,
   "metadata": {},
   "outputs": [
    {
     "data": {
      "text/plain": [
       "(10000, 32, 32, 3)"
      ]
     },
     "execution_count": 37,
     "metadata": {},
     "output_type": "execute_result"
    }
   ],
   "source": [
    "x_test = np.empty(shape=(10000, 32, 32, 3), dtype=np.float64)\n",
    "x_test.shape"
   ]
  },
  {
   "cell_type": "code",
   "execution_count": 39,
   "metadata": {},
   "outputs": [
    {
     "name": "stdout",
     "output_type": "stream",
     "text": [
      "Right = 80.94\n",
      "Wrong = 19.06\n"
     ]
    }
   ],
   "source": [
    "num_correct = num_wrong = 0\n",
    "\n",
    "x_test = np.empty(shape=(10000, 32, 32, 3), dtype=np.float64)\n",
    "\n",
    "for i in range(0,10000):\n",
    "    \n",
    "    image_file = images[i]\n",
    "    gtruth     = gtruths[i]\n",
    "         \n",
    "    image = Image.open(os.path.join(image_dir, image_file)).convert(\"RGB\").resize((width, height))\n",
    "    img = np.array(image)\n",
    "            \n",
    "    r = img[:,:,0]\n",
    "    g = img[:,:,1]\n",
    "    b = img[:,:,2]\n",
    "\n",
    "#     npimage = np.array([[r] + [g] + [b]], np.uint8)\n",
    "    npimage = np.array([[r] + [g] + [b]], np.float32)\n",
    "\n",
    "    npimage = npimage.transpose(0,2,3,1)\n",
    "    \n",
    "    np.append(x_test, npimage)\n",
    "    \n",
    "    npimage = (npimage-mean)/(std+1e-7)\n",
    "\n",
    "    classes = model.predict_classes(npimage)\n",
    "    pred    = model.predict(npimage, verbose=2)\n",
    "            \n",
    "    if label_map[classes[0]] == gtruth:\n",
    "        num_correct += 1\n",
    "    else:\n",
    "        num_wrong += 1\n",
    "\n",
    "print ('Right = ' + str(num_correct/(num_correct+num_wrong)*100.0) + '\\n' +\n",
    "       'Wrong = ' + str(num_wrong/(num_correct+num_wrong)*100.0))"
   ]
  },
  {
   "cell_type": "code",
   "execution_count": 45,
   "metadata": {},
   "outputs": [
    {
     "name": "stdout",
     "output_type": "stream",
     "text": [
      "10000/10000 [==============================] - 24s 2ms/step\n"
     ]
    }
   ],
   "source": [
    "x_test_1 = (x_test_1-mean)/(std+1e-7)\n",
    "\n",
    "pred_1   = model.predict_classes(x_test_1, verbose=1)"
   ]
  },
  {
   "cell_type": "code",
   "execution_count": 59,
   "metadata": {},
   "outputs": [
    {
     "data": {
      "text/plain": [
       "(0.012808619, 0.99861211, -1.8816435737732964, 1.2123635428906709e-13)"
      ]
     },
     "execution_count": 59,
     "metadata": {},
     "output_type": "execute_result"
    }
   ],
   "source": [
    "np.mean(x_test), np.std(x_test), np.mean(x_test_1), np.std(x_test_1)"
   ]
  },
  {
   "cell_type": "code",
   "execution_count": 50,
   "metadata": {},
   "outputs": [
    {
     "name": "stdout",
     "output_type": "stream",
     "text": [
      "10000/10000 [==============================] - 21s 2ms/step\n",
      "10000/10000 [==============================] - 25s 2ms/step\n",
      "\n",
      "Test result: 86.950 loss: 0.535\n"
     ]
    }
   ],
   "source": [
    "(x_train, y_train), (x_test, y_test) = cifar10.load_data()\n",
    "x_train = x_train.astype('float32')\n",
    "x_test = x_test.astype('float32')\n",
    "\n",
    "#z-score\n",
    "mean = np.mean(x_train,axis=(0,1,2,3))\n",
    "std = np.std(x_train,axis=(0,1,2,3))\n",
    "\n",
    "x_train = (x_train-mean)/(std+1e-7)\n",
    "x_test = (x_test-mean)/(std+1e-7)\n",
    "\n",
    "# x_train = (x_train-mean)\n",
    "# x_test = (x_test-mean)\n",
    "\n",
    "num_classes = 10\n",
    "y_train = np_utils.to_categorical(y_train,num_classes)\n",
    "y_test = np_utils.to_categorical(y_test,num_classes)\n",
    "\n",
    "scores = model.evaluate(x_test, y_test, batch_size=128, verbose=1)\n",
    "pred   = model.predict_classes(x_test, verbose=1)\n",
    "print('\\nTest result: %.3f loss: %.3f' % (scores[1]*100,scores[0]))"
   ]
  },
  {
   "cell_type": "code",
   "execution_count": 54,
   "metadata": {},
   "outputs": [
    {
     "data": {
      "text/plain": [
       "(10000, 32, 32, 3)"
      ]
     },
     "execution_count": 54,
     "metadata": {},
     "output_type": "execute_result"
    }
   ],
   "source": [
    "x_test_1.shape"
   ]
  },
  {
   "cell_type": "code",
   "execution_count": null,
   "metadata": {},
   "outputs": [],
   "source": [
    "label_map = ['airplanes', 'cars', 'birds', 'cats', 'deer', 'dogs', 'frogs', 'horses', 'ships', 'trucks']\n",
    "cifar_dir = 'data/testimages/cifar10'\n",
    "\n",
    "(x_train, y_train), (x_test, y_test) = cifar10.load_data()\n",
    "\n",
    "for i in range(0, len(y_test)):\n",
    "    img = Image.fromarray(x_test[i])\n",
    "               \n",
    "    obj_dir = os.path.join(cifar_dir, label_map[y_test[i][0]])\n",
    "    os.makedirs(obj_dir, exist_ok=True)\n",
    "               \n",
    "    img.save(os.path.join(obj_dir, str(i)+'.jpg'))"
   ]
  },
  {
   "cell_type": "code",
   "execution_count": null,
   "metadata": {},
   "outputs": [],
   "source": []
  }
 ],
 "metadata": {
  "kernelspec": {
   "display_name": "python354",
   "language": "python",
   "name": "python354"
  },
  "language_info": {
   "codemirror_mode": {
    "name": "ipython",
    "version": 3
   },
   "file_extension": ".py",
   "mimetype": "text/x-python",
   "name": "python",
   "nbconvert_exporter": "python",
   "pygments_lexer": "ipython3",
   "version": "3.5.2"
  }
 },
 "nbformat": 4,
 "nbformat_minor": 2
}
