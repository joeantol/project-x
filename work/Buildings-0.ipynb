{
 "cells": [
  {
   "cell_type": "code",
   "execution_count": null,
   "metadata": {},
   "outputs": [],
   "source": [
    "#!/usr/bin/env python"
   ]
  },
  {
   "cell_type": "code",
   "execution_count": null,
   "metadata": {},
   "outputs": [],
   "source": [
    "### %reset -f\n"
   ]
  },
  {
   "cell_type": "code",
   "execution_count": 3,
   "metadata": {},
   "outputs": [
    {
     "data": {
      "text/plain": [
       "<module 'mountainproject' from '/home/joeantol/work/Project-X/mountainproject.py'>"
      ]
     },
     "execution_count": 3,
     "metadata": {},
     "output_type": "execute_result"
    }
   ],
   "source": [
    "###from __future__ import print_function\n",
    "\n",
    "import argparse\n",
    "import ast\n",
    "import csv\n",
    "import datetime\n",
    "\n",
    "import keras\n",
    "from keras import backend as K\n",
    "\n",
    "from keras.callbacks import EarlyStopping\n",
    "from keras.callbacks import History \n",
    "\n",
    "from keras.datasets import cifar10\n",
    "\n",
    "from keras.preprocessing.image import ImageDataGenerator\n",
    "\n",
    "from keras.models import Sequential\n",
    "from keras.layers import Dense, Dropout, Activation, Flatten\n",
    "from keras.layers import Conv2D, MaxPooling2D\n",
    "\n",
    "from keras.optimizers import Adam\n",
    "from keras.optimizers import RMSprop\n",
    "from keras.optimizers import SGD\n",
    "\n",
    "from sklearn.model_selection import train_test_split\n",
    "\n",
    "from keras_sequential_ascii import sequential_model_to_ascii_printout\n",
    "\n",
    "import matplotlib.pyplot as plt\n",
    "import numpy as np\n",
    "import os\n",
    "import pickle\n",
    "import sys\n",
    "\n",
    "sys.stdout.flush()\n",
    "\n",
    "import mountainproject as mp\n",
    "\n",
    "from importlib import reload\n",
    "reload(mp)\n",
    "\n",
    "# Allow image embeding in notebook\n",
    "# %matplotlib inline"
   ]
  },
  {
   "cell_type": "code",
   "execution_count": 4,
   "metadata": {},
   "outputs": [
    {
     "data": {
      "text/plain": [
       "_StoreAction(option_strings=['--uniqueid', '-u'], dest='uniqueid', nargs=None, const=None, default=0, type=None, choices=None, help=None, metavar=None)"
      ]
     },
     "execution_count": 4,
     "metadata": {},
     "output_type": "execute_result"
    }
   ],
   "source": [
    "parser = argparse.ArgumentParser()\n",
    "parser.add_argument('--aug', '-a', default=False)\n",
    "parser.add_argument('--height', '-y')\n",
    "parser.add_argument('--width', '-x')\n",
    "parser.add_argument('--learningrate', '-l', default=0.001)\n",
    "parser.add_argument('--loadsavedimages', '-s', default='False')\n",
    "parser.add_argument('--numimages', '-n')\n",
    "parser.add_argument('--opt', '-o')\n",
    "parser.add_argument('--uniqueid', '-u', default=0)"
   ]
  },
  {
   "cell_type": "code",
   "execution_count": 5,
   "metadata": {},
   "outputs": [
    {
     "name": "stdout",
     "output_type": "stream",
     "text": [
      "In Jupyter...\n"
     ]
    }
   ],
   "source": [
    "try:\n",
    "    get_ipython().__class__.__name__\n",
    "    args = parser.parse_args(['-x', '100', '-y', '100', '-n', '1000', '-o', 'Adam', '-s=True'])\n",
    "    print('In Jupyter...')\n",
    "except:\n",
    "    args = parser.parse_args()\n",
    "    print('NOT in Jupyter...')"
   ]
  },
  {
   "cell_type": "code",
   "execution_count": 6,
   "metadata": {},
   "outputs": [],
   "source": [
    "data_augmentation = args.aug\n",
    "image_width       = int(args.width)\n",
    "image_height      = int(args.height)\n",
    "lr                = float(args.learningrate)\n",
    "load_saved_images = ast.literal_eval(args.loadsavedimages)\n",
    "num_images        = int(args.numimages)\n",
    "opt               = args.opt\n",
    "unique_id         = int(args.uniqueid)"
   ]
  },
  {
   "cell_type": "code",
   "execution_count": null,
   "metadata": {},
   "outputs": [],
   "source": []
  },
  {
   "cell_type": "code",
   "execution_count": 7,
   "metadata": {},
   "outputs": [
    {
     "name": "stdout",
     "output_type": "stream",
     "text": [
      "Saving model at: /home/joeantol/work/Project-X/saved_models/21stStreet-Adam-1000-100x100-0\n"
     ]
    }
   ],
   "source": [
    "batch_size = 32\n",
    "epochs = 100\n",
    "\n",
    "cwd = os.getcwd()\n",
    "save_dir = os.path.join(os.getcwd(), 'saved_models')\n",
    "model_path = os.path.join(save_dir, '21stStreet' + '-' + opt + '-' + str(num_images) + '-' \n",
    "                          + str(image_width) + 'x' + str(image_height) + '-' + str(unique_id))\n",
    "os.makedirs(model_path, exist_ok=True)\n",
    "print('Saving model at: '+ model_path)\n",
    "\n",
    "mp.set_reproducable_results(False)"
   ]
  },
  {
   "cell_type": "code",
   "execution_count": 8,
   "metadata": {},
   "outputs": [],
   "source": [
    "#... Create a bunch of optimizer objects for later use\n",
    "sgd = keras.optimizers.SGD(lr=lr, momentum=0.0, decay=0.0, nesterov=False)\n",
    "RMSprop = keras.optimizers.RMSprop(lr=lr, rho=0.9, epsilon=1e-6, decay=0.0)\n",
    "Adam = keras.optimizers.Adam(lr=lr, beta_1=0.9, beta_2=0.999, epsilon=1e-6, decay=0.0)\n",
    "\n",
    "opts = {'Adam'    : Adam,\n",
    "        'RMSprop' : RMSprop,\n",
    "        'SGD'     : sgd\n",
    "       }"
   ]
  },
  {
   "cell_type": "code",
   "execution_count": 9,
   "metadata": {},
   "outputs": [
    {
     "name": "stdout",
     "output_type": "stream",
     "text": [
      "Loading cross reference data from /home/joeantol/work/Project-X/buildinglabels.csv...\n",
      "Loaded saved images...\n"
     ]
    }
   ],
   "source": [
    "reload(mp)\n",
    "\n",
    "image_dir = os.path.join(cwd, 'buildings/21st-street')\n",
    "label_file = os.path.join(cwd, 'buildinglabels.csv')\n",
    "pre_processed_images_dir = os.path.join(cwd, 'pre_processed_images')\n",
    "\n",
    "xref = []\n",
    "\n",
    "if load_saved_images:\n",
    "    xref, _ = mp.load_xref(label_file)\n",
    "    \n",
    "    images = np.load(os.path.join(pre_processed_images_dir, 'images-' + str(num_images) + '.npy'))\n",
    "    labels = np.load(os.path.join(pre_processed_images_dir, 'labels-' + str(num_images) + '.npy'))\n",
    "    print('Loaded saved images...')\n",
    "\n",
    "else:\n",
    "    #... The labels file can't be in the image dir since it's cloud storage, not file system\n",
    "    images, labels, xref = mp.load_building_data(image_dir, './buildinglabels.csv', \n",
    "                                                 num_images=num_images, \n",
    "                                                 dim=(image_width,image_height))\n",
    "\n",
    "    #... Serialize 'cause loading and processing the images takes ages\n",
    "    np.save(os.path.join(pre_processed_images_dir, 'images-' + str(num_images)), images)\n",
    "    np.save(os.path.join(pre_processed_images_dir, 'labels-' + str(num_images)), labels)\n",
    "    \n",
    "x = images\n",
    "y = labels"
   ]
  },
  {
   "cell_type": "code",
   "execution_count": null,
   "metadata": {},
   "outputs": [],
   "source": [
    "images.shape"
   ]
  },
  {
   "cell_type": "code",
   "execution_count": 10,
   "metadata": {},
   "outputs": [
    {
     "name": "stdout",
     "output_type": "stream",
     "text": [
      "x_train shape: (800, 100, 100, 3)\n",
      "800 train samples\n",
      "201 test samples\n",
      "\n",
      "y_train shape: (800,)\n",
      "800 train labels\n",
      "201 test labels\n"
     ]
    }
   ],
   "source": [
    "x_train, x_test, y_train, y_test = train_test_split(np.array(x), np.array(y), test_size=0.2)\n",
    "\n",
    "print('x_train shape:', x_train.shape)\n",
    "print(x_train.shape[0], 'train samples')\n",
    "print(x_test.shape[0], 'test samples')\n",
    "print('')\n",
    "print('y_train shape:', y_train.shape)\n",
    "print(y_train.shape[0], 'train labels')\n",
    "print(y_test.shape[0], 'test labels')"
   ]
  },
  {
   "cell_type": "code",
   "execution_count": 11,
   "metadata": {},
   "outputs": [
    {
     "data": {
      "text/plain": [
       "(100, 100, 3)"
      ]
     },
     "execution_count": 11,
     "metadata": {},
     "output_type": "execute_result"
    }
   ],
   "source": [
    "x_train.shape[1:]"
   ]
  },
  {
   "cell_type": "code",
   "execution_count": null,
   "metadata": {},
   "outputs": [],
   "source": [
    "num_classes = len(xref)\n",
    "\n",
    "# Convert class vectors to binary class matrices.\n",
    "y_train = keras.utils.to_categorical(y_train, num_classes)\n",
    "y_test = keras.utils.to_categorical(y_test, num_classes)"
   ]
  },
  {
   "cell_type": "code",
   "execution_count": null,
   "metadata": {},
   "outputs": [],
   "source": [
    "model = Sequential()\n",
    "\n",
    "filters = 32\n",
    "model.add(Conv2D(filters, (3, 3), padding='same', input_shape=x_train.shape[1:]))\n",
    "\n",
    "model.add(Activation('relu'))\n",
    "model.add(Conv2D(filters, (3, 3)))\n",
    "model.add(Activation('relu'))\n",
    "model.add(MaxPooling2D(pool_size=(2, 2)))\n",
    "model.add(Dropout(0.25))"
   ]
  },
  {
   "cell_type": "code",
   "execution_count": null,
   "metadata": {},
   "outputs": [],
   "source": [
    "model.add(Conv2D(filters*2, (3, 3), padding='same'))\n",
    "model.add(Activation('relu'))\n",
    "model.add(Conv2D(filters*2, (3, 3)))\n",
    "model.add(Activation('relu'))\n",
    "model.add(MaxPooling2D(pool_size=(2, 2)))\n",
    "model.add(Dropout(0.25))"
   ]
  },
  {
   "cell_type": "code",
   "execution_count": null,
   "metadata": {},
   "outputs": [],
   "source": [
    "model.add(Flatten())\n",
    "model.add(Dense(filters*16))\n",
    "model.add(Activation('relu'))\n",
    "model.add(Dropout(0.5))\n",
    "model.add(Dense(num_classes))\n",
    "model.add(Activation('softmax'))"
   ]
  },
  {
   "cell_type": "code",
   "execution_count": null,
   "metadata": {},
   "outputs": [],
   "source": [
    "model.compile(loss='categorical_crossentropy',\n",
    "              optimizer=opts[opt],\n",
    "              metrics=['accuracy'])"
   ]
  },
  {
   "cell_type": "code",
   "execution_count": null,
   "metadata": {},
   "outputs": [],
   "source": [
    "opts[opt]"
   ]
  },
  {
   "cell_type": "code",
   "execution_count": null,
   "metadata": {},
   "outputs": [],
   "source": [
    "x_train = x_train.astype('float32')\n",
    "x_test = x_test.astype('float32')\n",
    "x_train /= 255\n",
    "x_test /= 255"
   ]
  },
  {
   "cell_type": "code",
   "execution_count": null,
   "metadata": {},
   "outputs": [],
   "source": [
    "hist = History()\n",
    "early_stopping = EarlyStopping(monitor='val_loss', patience=2)\n",
    "time_callback = mp.TimeHistory()\n",
    "\n",
    "data_augmentation = False\n",
    "if not data_augmentation:\n",
    "    print('Not using data augmentation...')\n",
    "    hist = model.fit(x_train, y_train,\n",
    "                     batch_size=batch_size,\n",
    "                     epochs=epochs,\n",
    "                     validation_data=(x_test, y_test),\n",
    "                     shuffle=True,\n",
    "                     callbacks=[early_stopping, time_callback]\n",
    "                    )\n",
    "\n",
    "    \n",
    "    \n",
    "else:\n",
    "    print('Using real-time data augmentation.')\n",
    "    #... This will do preprocessing and realtime data augmentation:\n",
    "    datagen = ImageDataGenerator(\n",
    "        featurewise_center=False,  # set input mean to 0 over the dataset\n",
    "        samplewise_center=False,  # set each sample mean to 0\n",
    "        featurewise_std_normalization=False,  # divide inputs by std of the dataset\n",
    "        samplewise_std_normalization=False,  # divide each input by its std\n",
    "        zca_whitening=False,  # apply ZCA whitening\n",
    "        rotation_range=45,  # randomly rotate images in the range (degrees, 0 to 180)\n",
    "        width_shift_range=0.1,  # randomly shift images horizontally (fraction of total width)\n",
    "        height_shift_range=0.1,  # randomly shift images vertically (fraction of total height)\n",
    "        horizontal_flip=True,  # randomly flip images\n",
    "        vertical_flip=False)  # randomly flip images\n",
    "\n",
    "    # Compute quantities required for feature-wise normalization\n",
    "    # (std, mean, and principal components if ZCA whitening is applied).\n",
    "    datagen.fit(x_train)\n",
    "\n",
    "    # Fit the model on the batches generated by datagen.flow().\n",
    "    hist = model.fit_generator(datagen.flow(x_train, y_train,\n",
    "                               batch_size=batch_size),\n",
    "                               epochs=epochs,\n",
    "                               validation_data=(x_test, y_test),\n",
    "                               workers=4,\n",
    "                               callbacks=[early_stopping, time_callback]\n",
    "                              )"
   ]
  },
  {
   "cell_type": "code",
   "execution_count": null,
   "metadata": {},
   "outputs": [],
   "source": []
  },
  {
   "cell_type": "code",
   "execution_count": null,
   "metadata": {},
   "outputs": [],
   "source": []
  },
  {
   "cell_type": "code",
   "execution_count": null,
   "metadata": {},
   "outputs": [],
   "source": [
    "#... Save model and weights\n",
    "model.save(os.path.join(model_path, 'model.h5'))\n",
    "print('Saved trained model at %s ' % model_path)\n",
    "\n",
    "#... Save history\n",
    "with open(os.path.join(model_path, 'history.pk'), 'wb') as f:\n",
    "    pickle.dump(hist.history, f)\n",
    "print('Saved history at %s ' % model_path)\n",
    "\n",
    "#... Save epoch times\n",
    "with open(os.path.join(model_path, 'times.pk'), 'wb') as f:\n",
    "    pickle.dump(time_callback.times, f)\n",
    "print('Saved epoch times at %s ' % model_path)\n",
    "\n",
    "#... Score trained model.\n",
    "scores = model.evaluate(x_test, y_test, verbose=1)\n",
    "with open(os.path.join(model_path, 'scores.pk'), 'wb') as f:\n",
    "    pickle.dump(scores, f)\n",
    "print('Saved scores at %s ' % model_path)\n",
    "\n",
    "print('Test loss:', scores[0])\n",
    "print('Test accuracy:', scores[1])"
   ]
  },
  {
   "cell_type": "code",
   "execution_count": null,
   "metadata": {},
   "outputs": [],
   "source": []
  },
  {
   "cell_type": "code",
   "execution_count": null,
   "metadata": {},
   "outputs": [],
   "source": []
  },
  {
   "cell_type": "code",
   "execution_count": null,
   "metadata": {},
   "outputs": [],
   "source": []
  },
  {
   "cell_type": "code",
   "execution_count": null,
   "metadata": {},
   "outputs": [],
   "source": []
  },
  {
   "cell_type": "code",
   "execution_count": null,
   "metadata": {},
   "outputs": [],
   "source": []
  }
 ],
 "metadata": {
  "kernelspec": {
   "display_name": "python363",
   "language": "python",
   "name": "python363"
  },
  "language_info": {
   "codemirror_mode": {
    "name": "ipython",
    "version": 3
   },
   "file_extension": ".py",
   "mimetype": "text/x-python",
   "name": "python",
   "nbconvert_exporter": "python",
   "pygments_lexer": "ipython3",
   "version": "3.6.3"
  }
 },
 "nbformat": 4,
 "nbformat_minor": 2
}
