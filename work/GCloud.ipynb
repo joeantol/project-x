{
 "cells": [
  {
   "cell_type": "code",
   "execution_count": null,
   "metadata": {
    "collapsed": true
   },
   "outputs": [],
   "source": [
    "#!/usr/bin/python"
   ]
  },
  {
   "cell_type": "code",
   "execution_count": 2,
   "metadata": {},
   "outputs": [
    {
     "name": "stderr",
     "output_type": "stream",
     "text": [
      "/home/joeantol/python-envs/python363/lib/python3.6/site-packages/h5py/__init__.py:36: FutureWarning: Conversion of the second argument of issubdtype from `float` to `np.floating` is deprecated. In future, it will be treated as `np.float64 == np.dtype(float).type`.\n",
      "  from ._conv import register_converters as _register_converters\n",
      "Using TensorFlow backend.\n",
      "/home/joeantol/python-envs/python363/lib/python3.6/importlib/_bootstrap.py:219: RuntimeWarning: compiletime version 3.5 of module 'tensorflow.python.framework.fast_tensor_util' does not match runtime version 3.6\n",
      "  return f(*args, **kwds)\n"
     ]
    },
    {
     "data": {
      "text/plain": [
       "<module 'mountainproject' from '/home/joeantol/joeantolwork/project-x/mountainproject.py'>"
      ]
     },
     "execution_count": 2,
     "metadata": {},
     "output_type": "execute_result"
    }
   ],
   "source": [
    "import csv\n",
    "import os\n",
    "\n",
    "import mountainproject as mp\n",
    "\n",
    "from importlib import reload\n",
    "reload(mp)"
   ]
  },
  {
   "cell_type": "code",
   "execution_count": null,
   "metadata": {
    "collapsed": true
   },
   "outputs": [],
   "source": []
  },
  {
   "cell_type": "code",
   "execution_count": 10,
   "metadata": {
    "collapsed": true
   },
   "outputs": [
    {
     "name": "stdout",
     "output_type": "stream",
     "text": [
      "Loading cross reference data from /home/joeantol/buckets/project-x/joesandroid/21st-street/buildinglabels.csv...\n",
      "Moving /home/joeantol/buckets/project-x/joesandroid/21st-street/0000000001.jpg >>> /home/joeantol/buckets/project-x/joesandroid/21st-street/unlabled/0000000001.jpg\n",
      "Moving /home/joeantol/buckets/project-x/joesandroid/21st-street/0000000002.jpg >>> /home/joeantol/buckets/project-x/joesandroid/21st-street/unlabled/0000000002.jpg\n",
      "Moving /home/joeantol/buckets/project-x/joesandroid/21st-street/0000000003.jpg >>> /home/joeantol/buckets/project-x/joesandroid/21st-street/unlabled/0000000003.jpg\n",
      "Moving /home/joeantol/buckets/project-x/joesandroid/21st-street/0000000004.jpg >>> /home/joeantol/buckets/project-x/joesandroid/21st-street/unlabled/0000000004.jpg\n",
      "Moving /home/joeantol/buckets/project-x/joesandroid/21st-street/0000000005.jpg >>> /home/joeantol/buckets/project-x/joesandroid/21st-street/unlabled/0000000005.jpg\n",
      "Moving /home/joeantol/buckets/project-x/joesandroid/21st-street/0000000006.jpg >>> /home/joeantol/buckets/project-x/joesandroid/21st-street/unlabled/0000000006.jpg\n",
      "Moving /home/joeantol/buckets/project-x/joesandroid/21st-street/0000000007.jpg >>> /home/joeantol/buckets/project-x/joesandroid/21st-street/unlabled/0000000007.jpg\n",
      "Moving /home/joeantol/buckets/project-x/joesandroid/21st-street/0000000008.jpg >>> /home/joeantol/buckets/project-x/joesandroid/21st-street/unlabled/0000000008.jpg\n",
      "Moving /home/joeantol/buckets/project-x/joesandroid/21st-street/0000000009.jpg >>> /home/joeantol/buckets/project-x/joesandroid/21st-street/unlabled/0000000009.jpg\n",
      "Moving /home/joeantol/buckets/project-x/joesandroid/21st-street/0000000010.jpg >>> /home/joeantol/buckets/project-x/joesandroid/21st-street/unlabled/0000000010.jpg\n",
      "Moving /home/joeantol/buckets/project-x/joesandroid/21st-street/0000000011.jpg >>> /home/joeantol/buckets/project-x/joesandroid/21st-street/unlabled/0000000011.jpg\n",
      "Moving /home/joeantol/buckets/project-x/joesandroid/21st-street/0000000012.jpg >>> /home/joeantol/buckets/project-x/joesandroid/21st-street/unlabled/0000000012.jpg\n",
      "Moving /home/joeantol/buckets/project-x/joesandroid/21st-street/0000000013.jpg >>> /home/joeantol/buckets/project-x/joesandroid/21st-street/unlabled/0000000013.jpg\n",
      "Moving /home/joeantol/buckets/project-x/joesandroid/21st-street/0000000014.jpg >>> /home/joeantol/buckets/project-x/joesandroid/21st-street/unlabled/0000000014.jpg\n",
      "Moving /home/joeantol/buckets/project-x/joesandroid/21st-street/0000000015.jpg >>> /home/joeantol/buckets/project-x/joesandroid/21st-street/unlabled/0000000015.jpg\n",
      "Moving /home/joeantol/buckets/project-x/joesandroid/21st-street/0000000016.jpg >>> /home/joeantol/buckets/project-x/joesandroid/21st-street/unlabled/0000000016.jpg\n",
      "Moving /home/joeantol/buckets/project-x/joesandroid/21st-street/0000000017.jpg >>> /home/joeantol/buckets/project-x/joesandroid/21st-street/unlabled/0000000017.jpg\n",
      "Moving /home/joeantol/buckets/project-x/joesandroid/21st-street/0000000018.jpg >>> /home/joeantol/buckets/project-x/joesandroid/21st-street/unlabled/0000000018.jpg\n",
      "Moving /home/joeantol/buckets/project-x/joesandroid/21st-street/0000000019.jpg >>> /home/joeantol/buckets/project-x/joesandroid/21st-street/unlabled/0000000019.jpg\n",
      "Moving /home/joeantol/buckets/project-x/joesandroid/21st-street/0000000020.jpg >>> /home/joeantol/buckets/project-x/joesandroid/21st-street/unlabled/0000000020.jpg\n",
      "Moving /home/joeantol/buckets/project-x/joesandroid/21st-street/0000000021.jpg >>> /home/joeantol/buckets/project-x/joesandroid/21st-street/unlabled/0000000021.jpg\n",
      "Moving /home/joeantol/buckets/project-x/joesandroid/21st-street/0000000022.jpg >>> /home/joeantol/buckets/project-x/joesandroid/21st-street/unlabled/0000000022.jpg\n",
      "Moving /home/joeantol/buckets/project-x/joesandroid/21st-street/0000000023.jpg >>> /home/joeantol/buckets/project-x/joesandroid/21st-street/unlabled/0000000023.jpg\n",
      "Moving /home/joeantol/buckets/project-x/joesandroid/21st-street/0000000024.jpg >>> /home/joeantol/buckets/project-x/joesandroid/21st-street/unlabled/0000000024.jpg\n",
      "Moving /home/joeantol/buckets/project-x/joesandroid/21st-street/0000000025.jpg >>> /home/joeantol/buckets/project-x/joesandroid/21st-street/unlabled/0000000025.jpg\n",
      "Moving /home/joeantol/buckets/project-x/joesandroid/21st-street/0000000026.jpg >>> /home/joeantol/buckets/project-x/joesandroid/21st-street/unlabled/0000000026.jpg\n",
      "Moving /home/joeantol/buckets/project-x/joesandroid/21st-street/0000000027.jpg >>> /home/joeantol/buckets/project-x/joesandroid/21st-street/unlabled/0000000027.jpg\n",
      "Moving /home/joeantol/buckets/project-x/joesandroid/21st-street/0000000028.jpg >>> /home/joeantol/buckets/project-x/joesandroid/21st-street/unlabled/0000000028.jpg\n",
      "Moving /home/joeantol/buckets/project-x/joesandroid/21st-street/0000000029.jpg >>> /home/joeantol/buckets/project-x/joesandroid/21st-street/unlabled/0000000029.jpg\n",
      "Moving /home/joeantol/buckets/project-x/joesandroid/21st-street/0000000030.jpg >>> /home/joeantol/buckets/project-x/joesandroid/21st-street/unlabled/0000000030.jpg\n",
      "Moving /home/joeantol/buckets/project-x/joesandroid/21st-street/0000000031.jpg >>> /home/joeantol/buckets/project-x/joesandroid/21st-street/unlabled/0000000031.jpg\n",
      "Moving /home/joeantol/buckets/project-x/joesandroid/21st-street/0000000032.jpg >>> /home/joeantol/buckets/project-x/joesandroid/21st-street/unlabled/0000000032.jpg\n",
      "Moving /home/joeantol/buckets/project-x/joesandroid/21st-street/0000000033.jpg >>> /home/joeantol/buckets/project-x/joesandroid/21st-street/unlabled/0000000033.jpg\n",
      "Moving /home/joeantol/buckets/project-x/joesandroid/21st-street/0000000034.jpg >>> /home/joeantol/buckets/project-x/joesandroid/21st-street/unlabled/0000000034.jpg\n",
      "Moving /home/joeantol/buckets/project-x/joesandroid/21st-street/0000000035.jpg >>> /home/joeantol/buckets/project-x/joesandroid/21st-street/unlabled/0000000035.jpg\n",
      "Moving /home/joeantol/buckets/project-x/joesandroid/21st-street/0000000036.jpg >>> /home/joeantol/buckets/project-x/joesandroid/21st-street/unlabled/0000000036.jpg\n",
      "Moving /home/joeantol/buckets/project-x/joesandroid/21st-street/0000000037.jpg >>> /home/joeantol/buckets/project-x/joesandroid/21st-street/unlabled/0000000037.jpg\n",
      "Moving /home/joeantol/buckets/project-x/joesandroid/21st-street/0000000038.jpg >>> /home/joeantol/buckets/project-x/joesandroid/21st-street/unlabled/0000000038.jpg\n",
      "Moving /home/joeantol/buckets/project-x/joesandroid/21st-street/0000000039.jpg >>> /home/joeantol/buckets/project-x/joesandroid/21st-street/unlabled/0000000039.jpg\n",
      "Moving /home/joeantol/buckets/project-x/joesandroid/21st-street/0000000040.jpg >>> /home/joeantol/buckets/project-x/joesandroid/21st-street/unlabled/0000000040.jpg\n",
      "Moving /home/joeantol/buckets/project-x/joesandroid/21st-street/0000000041.jpg >>> /home/joeantol/buckets/project-x/joesandroid/21st-street/unlabled/0000000041.jpg\n",
      "Moving /home/joeantol/buckets/project-x/joesandroid/21st-street/0000000042.jpg >>> /home/joeantol/buckets/project-x/joesandroid/21st-street/unlabled/0000000042.jpg\n",
      "Moving /home/joeantol/buckets/project-x/joesandroid/21st-street/0000000043.jpg >>> /home/joeantol/buckets/project-x/joesandroid/21st-street/unlabled/0000000043.jpg\n",
      "Moving /home/joeantol/buckets/project-x/joesandroid/21st-street/0000000044.jpg >>> /home/joeantol/buckets/project-x/joesandroid/21st-street/unlabled/0000000044.jpg\n",
      "Moving /home/joeantol/buckets/project-x/joesandroid/21st-street/0000000045.jpg >>> /home/joeantol/buckets/project-x/joesandroid/21st-street/unlabled/0000000045.jpg\n",
      "Moving /home/joeantol/buckets/project-x/joesandroid/21st-street/0000000046.jpg >>> /home/joeantol/buckets/project-x/joesandroid/21st-street/unlabled/0000000046.jpg\n",
      "Moving /home/joeantol/buckets/project-x/joesandroid/21st-street/0000000047.jpg >>> /home/joeantol/buckets/project-x/joesandroid/21st-street/unlabled/0000000047.jpg\n",
      "Moving /home/joeantol/buckets/project-x/joesandroid/21st-street/0000000048.jpg >>> /home/joeantol/buckets/project-x/joesandroid/21st-street/unlabled/0000000048.jpg\n",
      "Moving /home/joeantol/buckets/project-x/joesandroid/21st-street/0000000049.jpg >>> /home/joeantol/buckets/project-x/joesandroid/21st-street/unlabled/0000000049.jpg\n",
      "Moving /home/joeantol/buckets/project-x/joesandroid/21st-street/0000000050.jpg >>> /home/joeantol/buckets/project-x/joesandroid/21st-street/unlabled/0000000050.jpg\n",
      "Moving /home/joeantol/buckets/project-x/joesandroid/21st-street/0000000051.jpg >>> /home/joeantol/buckets/project-x/joesandroid/21st-street/unlabled/0000000051.jpg\n"
     ]
    },
    {
     "name": "stdout",
     "output_type": "stream",
     "text": [
      "Moving /home/joeantol/buckets/project-x/joesandroid/21st-street/0000000052.jpg >>> /home/joeantol/buckets/project-x/joesandroid/21st-street/unlabled/0000000052.jpg\n",
      "Moving /home/joeantol/buckets/project-x/joesandroid/21st-street/0000000053.jpg >>> /home/joeantol/buckets/project-x/joesandroid/21st-street/unlabled/0000000053.jpg\n",
      "Moving /home/joeantol/buckets/project-x/joesandroid/21st-street/0000000054.jpg >>> /home/joeantol/buckets/project-x/joesandroid/21st-street/unlabled/0000000054.jpg\n",
      "Moving /home/joeantol/buckets/project-x/joesandroid/21st-street/0000000055.jpg >>> /home/joeantol/buckets/project-x/joesandroid/21st-street/unlabled/0000000055.jpg\n",
      "Moving /home/joeantol/buckets/project-x/joesandroid/21st-street/0000000056.jpg >>> /home/joeantol/buckets/project-x/joesandroid/21st-street/unlabled/0000000056.jpg\n",
      "Moving /home/joeantol/buckets/project-x/joesandroid/21st-street/0000000057.jpg >>> /home/joeantol/buckets/project-x/joesandroid/21st-street/unlabled/0000000057.jpg\n",
      "Moving /home/joeantol/buckets/project-x/joesandroid/21st-street/0000000058.jpg >>> /home/joeantol/buckets/project-x/joesandroid/21st-street/unlabled/0000000058.jpg\n",
      "Moving /home/joeantol/buckets/project-x/joesandroid/21st-street/0000000059.jpg >>> /home/joeantol/buckets/project-x/joesandroid/21st-street/unlabled/0000000059.jpg\n",
      "Moving /home/joeantol/buckets/project-x/joesandroid/21st-street/0000000060.jpg >>> /home/joeantol/buckets/project-x/joesandroid/21st-street/unlabled/0000000060.jpg\n",
      "Moving /home/joeantol/buckets/project-x/joesandroid/21st-street/0000000061.jpg >>> /home/joeantol/buckets/project-x/joesandroid/21st-street/unlabled/0000000061.jpg\n",
      "Moving /home/joeantol/buckets/project-x/joesandroid/21st-street/0000000062.jpg >>> /home/joeantol/buckets/project-x/joesandroid/21st-street/unlabled/0000000062.jpg\n",
      "Moving /home/joeantol/buckets/project-x/joesandroid/21st-street/0000000063.jpg >>> /home/joeantol/buckets/project-x/joesandroid/21st-street/unlabled/0000000063.jpg\n",
      "Moving /home/joeantol/buckets/project-x/joesandroid/21st-street/0000000064.jpg >>> /home/joeantol/buckets/project-x/joesandroid/21st-street/unlabled/0000000064.jpg\n",
      "Moving /home/joeantol/buckets/project-x/joesandroid/21st-street/0000000065.jpg >>> /home/joeantol/buckets/project-x/joesandroid/21st-street/unlabled/0000000065.jpg\n",
      "Moving /home/joeantol/buckets/project-x/joesandroid/21st-street/0000000066.jpg >>> /home/joeantol/buckets/project-x/joesandroid/21st-street/unlabled/0000000066.jpg\n",
      "Moving /home/joeantol/buckets/project-x/joesandroid/21st-street/0000000067.jpg >>> /home/joeantol/buckets/project-x/joesandroid/21st-street/unlabled/0000000067.jpg\n",
      "Moving /home/joeantol/buckets/project-x/joesandroid/21st-street/0000000068.jpg >>> /home/joeantol/buckets/project-x/joesandroid/21st-street/unlabled/0000000068.jpg\n",
      "Moving /home/joeantol/buckets/project-x/joesandroid/21st-street/0000000069.jpg >>> /home/joeantol/buckets/project-x/joesandroid/21st-street/unlabled/0000000069.jpg\n",
      "Moving /home/joeantol/buckets/project-x/joesandroid/21st-street/0000000070.jpg >>> /home/joeantol/buckets/project-x/joesandroid/21st-street/unlabled/0000000070.jpg\n",
      "Moving /home/joeantol/buckets/project-x/joesandroid/21st-street/0000000071.jpg >>> /home/joeantol/buckets/project-x/joesandroid/21st-street/unlabled/0000000071.jpg\n",
      "Moving /home/joeantol/buckets/project-x/joesandroid/21st-street/0000000072.jpg >>> /home/joeantol/buckets/project-x/joesandroid/21st-street/unlabled/0000000072.jpg\n",
      "Moving /home/joeantol/buckets/project-x/joesandroid/21st-street/0000000073.jpg >>> /home/joeantol/buckets/project-x/joesandroid/21st-street/unlabled/0000000073.jpg\n",
      "Moving /home/joeantol/buckets/project-x/joesandroid/21st-street/0000000074.jpg >>> /home/joeantol/buckets/project-x/joesandroid/21st-street/unlabled/0000000074.jpg\n",
      "Moving /home/joeantol/buckets/project-x/joesandroid/21st-street/0000000075.jpg >>> /home/joeantol/buckets/project-x/joesandroid/21st-street/unlabled/0000000075.jpg\n",
      "Moving /home/joeantol/buckets/project-x/joesandroid/21st-street/0000000076.jpg >>> /home/joeantol/buckets/project-x/joesandroid/21st-street/unlabled/0000000076.jpg\n",
      "Moving /home/joeantol/buckets/project-x/joesandroid/21st-street/0000000077.jpg >>> /home/joeantol/buckets/project-x/joesandroid/21st-street/unlabled/0000000077.jpg\n",
      "Moving /home/joeantol/buckets/project-x/joesandroid/21st-street/0000000078.jpg >>> /home/joeantol/buckets/project-x/joesandroid/21st-street/unlabled/0000000078.jpg\n",
      "Moving /home/joeantol/buckets/project-x/joesandroid/21st-street/0000000079.jpg >>> /home/joeantol/buckets/project-x/joesandroid/21st-street/unlabled/0000000079.jpg\n",
      "Moving /home/joeantol/buckets/project-x/joesandroid/21st-street/0000000080.jpg >>> /home/joeantol/buckets/project-x/joesandroid/21st-street/unlabled/0000000080.jpg\n",
      "Moving /home/joeantol/buckets/project-x/joesandroid/21st-street/0000000081.jpg >>> /home/joeantol/buckets/project-x/joesandroid/21st-street/unlabled/0000000081.jpg\n",
      "Moving /home/joeantol/buckets/project-x/joesandroid/21st-street/0000000082.jpg >>> /home/joeantol/buckets/project-x/joesandroid/21st-street/unlabled/0000000082.jpg\n",
      "Moving /home/joeantol/buckets/project-x/joesandroid/21st-street/0000000083.jpg >>> /home/joeantol/buckets/project-x/joesandroid/21st-street/unlabled/0000000083.jpg\n",
      "Moving /home/joeantol/buckets/project-x/joesandroid/21st-street/0000000084.jpg >>> /home/joeantol/buckets/project-x/joesandroid/21st-street/unlabled/0000000084.jpg\n",
      "Moving /home/joeantol/buckets/project-x/joesandroid/21st-street/0000000085.jpg >>> /home/joeantol/buckets/project-x/joesandroid/21st-street/unlabled/0000000085.jpg\n",
      "Moving /home/joeantol/buckets/project-x/joesandroid/21st-street/0000000086.jpg >>> /home/joeantol/buckets/project-x/joesandroid/21st-street/unlabled/0000000086.jpg\n",
      "Moving /home/joeantol/buckets/project-x/joesandroid/21st-street/0000000087.jpg >>> /home/joeantol/buckets/project-x/joesandroid/21st-street/unlabled/0000000087.jpg\n",
      "Moving /home/joeantol/buckets/project-x/joesandroid/21st-street/0000000088.jpg >>> /home/joeantol/buckets/project-x/joesandroid/21st-street/unlabled/0000000088.jpg\n",
      "Moving /home/joeantol/buckets/project-x/joesandroid/21st-street/0000000089.jpg >>> /home/joeantol/buckets/project-x/joesandroid/21st-street/unlabled/0000000089.jpg\n",
      "Moving /home/joeantol/buckets/project-x/joesandroid/21st-street/0000000090.jpg >>> /home/joeantol/buckets/project-x/joesandroid/21st-street/unlabled/0000000090.jpg\n",
      "Moving /home/joeantol/buckets/project-x/joesandroid/21st-street/0000000091.jpg >>> /home/joeantol/buckets/project-x/joesandroid/21st-street/unlabled/0000000091.jpg\n",
      "Moving /home/joeantol/buckets/project-x/joesandroid/21st-street/0000000092.jpg >>> /home/joeantol/buckets/project-x/joesandroid/21st-street/unlabled/0000000092.jpg\n",
      "Moving /home/joeantol/buckets/project-x/joesandroid/21st-street/0000000093.jpg >>> /home/joeantol/buckets/project-x/joesandroid/21st-street/unlabled/0000000093.jpg\n",
      "Moving /home/joeantol/buckets/project-x/joesandroid/21st-street/0000000094.jpg >>> /home/joeantol/buckets/project-x/joesandroid/21st-street/unlabled/0000000094.jpg\n",
      "Moving /home/joeantol/buckets/project-x/joesandroid/21st-street/0000000095.jpg >>> /home/joeantol/buckets/project-x/joesandroid/21st-street/unlabled/0000000095.jpg\n",
      "Moving /home/joeantol/buckets/project-x/joesandroid/21st-street/0000000096.jpg >>> /home/joeantol/buckets/project-x/joesandroid/21st-street/unlabled/0000000096.jpg\n",
      "Moving /home/joeantol/buckets/project-x/joesandroid/21st-street/0000000097.jpg >>> /home/joeantol/buckets/project-x/joesandroid/21st-street/unlabled/0000000097.jpg\n",
      "Moving /home/joeantol/buckets/project-x/joesandroid/21st-street/0000000098.jpg >>> /home/joeantol/buckets/project-x/joesandroid/21st-street/unlabled/0000000098.jpg\n",
      "Moving /home/joeantol/buckets/project-x/joesandroid/21st-street/0000000099.jpg >>> /home/joeantol/buckets/project-x/joesandroid/21st-street/unlabled/0000000099.jpg\n",
      "Moving /home/joeantol/buckets/project-x/joesandroid/21st-street/0000000100.jpg >>> /home/joeantol/buckets/project-x/joesandroid/21st-street/unlabled/0000000100.jpg\n",
      "Moving /home/joeantol/buckets/project-x/joesandroid/21st-street/0000000101.jpg >>> /home/joeantol/buckets/project-x/joesandroid/21st-street/unlabled/0000000101.jpg\n"
     ]
    },
    {
     "name": "stdout",
     "output_type": "stream",
     "text": [
      "Moving /home/joeantol/buckets/project-x/joesandroid/21st-street/0000000102.jpg >>> /home/joeantol/buckets/project-x/joesandroid/21st-street/unlabled/0000000102.jpg\n",
      "Moving /home/joeantol/buckets/project-x/joesandroid/21st-street/0000000103.jpg >>> /home/joeantol/buckets/project-x/joesandroid/21st-street/unlabled/0000000103.jpg\n",
      "Moving /home/joeantol/buckets/project-x/joesandroid/21st-street/0000000104.jpg >>> /home/joeantol/buckets/project-x/joesandroid/21st-street/unlabled/0000000104.jpg\n",
      "Moving /home/joeantol/buckets/project-x/joesandroid/21st-street/0000000105.jpg >>> /home/joeantol/buckets/project-x/joesandroid/21st-street/unlabled/0000000105.jpg\n",
      "Moving /home/joeantol/buckets/project-x/joesandroid/21st-street/0000000106.jpg >>> /home/joeantol/buckets/project-x/joesandroid/21st-street/unlabled/0000000106.jpg\n",
      "Moving /home/joeantol/buckets/project-x/joesandroid/21st-street/0000000107.jpg >>> /home/joeantol/buckets/project-x/joesandroid/21st-street/unlabled/0000000107.jpg\n",
      "Moving /home/joeantol/buckets/project-x/joesandroid/21st-street/0000000108.jpg >>> /home/joeantol/buckets/project-x/joesandroid/21st-street/unlabled/0000000108.jpg\n",
      "Moving /home/joeantol/buckets/project-x/joesandroid/21st-street/0000000109.jpg >>> /home/joeantol/buckets/project-x/joesandroid/21st-street/unlabled/0000000109.jpg\n",
      "Moving /home/joeantol/buckets/project-x/joesandroid/21st-street/0000000110.jpg >>> /home/joeantol/buckets/project-x/joesandroid/21st-street/unlabled/0000000110.jpg\n",
      "Moving /home/joeantol/buckets/project-x/joesandroid/21st-street/0000000111.jpg >>> /home/joeantol/buckets/project-x/joesandroid/21st-street/unlabled/0000000111.jpg\n",
      "Moving /home/joeantol/buckets/project-x/joesandroid/21st-street/0000000112.jpg >>> /home/joeantol/buckets/project-x/joesandroid/21st-street/unlabled/0000000112.jpg\n",
      "Moving /home/joeantol/buckets/project-x/joesandroid/21st-street/0000000113.jpg >>> /home/joeantol/buckets/project-x/joesandroid/21st-street/unlabled/0000000113.jpg\n",
      "Moving /home/joeantol/buckets/project-x/joesandroid/21st-street/0000000114.jpg >>> /home/joeantol/buckets/project-x/joesandroid/21st-street/unlabled/0000000114.jpg\n",
      "Moving /home/joeantol/buckets/project-x/joesandroid/21st-street/0000000115.jpg >>> /home/joeantol/buckets/project-x/joesandroid/21st-street/unlabled/0000000115.jpg\n",
      "Moving /home/joeantol/buckets/project-x/joesandroid/21st-street/0000000116.jpg >>> /home/joeantol/buckets/project-x/joesandroid/21st-street/unlabled/0000000116.jpg\n",
      "Moving /home/joeantol/buckets/project-x/joesandroid/21st-street/0000000117.jpg >>> /home/joeantol/buckets/project-x/joesandroid/21st-street/unlabled/0000000117.jpg\n",
      "Moving /home/joeantol/buckets/project-x/joesandroid/21st-street/0000000118.jpg >>> /home/joeantol/buckets/project-x/joesandroid/21st-street/unlabled/0000000118.jpg\n",
      "Moving /home/joeantol/buckets/project-x/joesandroid/21st-street/0000000119.jpg >>> /home/joeantol/buckets/project-x/joesandroid/21st-street/unlabled/0000000119.jpg\n",
      "Moving /home/joeantol/buckets/project-x/joesandroid/21st-street/0000000120.jpg >>> /home/joeantol/buckets/project-x/joesandroid/21st-street/unlabled/0000000120.jpg\n",
      "Moving /home/joeantol/buckets/project-x/joesandroid/21st-street/0000000121.jpg >>> /home/joeantol/buckets/project-x/joesandroid/21st-street/unlabled/0000000121.jpg\n",
      "Moving /home/joeantol/buckets/project-x/joesandroid/21st-street/0000000122.jpg >>> /home/joeantol/buckets/project-x/joesandroid/21st-street/unlabled/0000000122.jpg\n",
      "Moving /home/joeantol/buckets/project-x/joesandroid/21st-street/0000000123.jpg >>> /home/joeantol/buckets/project-x/joesandroid/21st-street/unlabled/0000000123.jpg\n",
      "Moving /home/joeantol/buckets/project-x/joesandroid/21st-street/0000000124.jpg >>> /home/joeantol/buckets/project-x/joesandroid/21st-street/unlabled/0000000124.jpg\n",
      "Moving /home/joeantol/buckets/project-x/joesandroid/21st-street/0000000125.jpg >>> /home/joeantol/buckets/project-x/joesandroid/21st-street/unlabled/0000000125.jpg\n",
      "Moving /home/joeantol/buckets/project-x/joesandroid/21st-street/0000000126.jpg >>> /home/joeantol/buckets/project-x/joesandroid/21st-street/unlabled/0000000126.jpg\n",
      "Moving /home/joeantol/buckets/project-x/joesandroid/21st-street/0000000127.jpg >>> /home/joeantol/buckets/project-x/joesandroid/21st-street/unlabled/0000000127.jpg\n",
      "Moving /home/joeantol/buckets/project-x/joesandroid/21st-street/0000000128.jpg >>> /home/joeantol/buckets/project-x/joesandroid/21st-street/unlabled/0000000128.jpg\n",
      "Moving /home/joeantol/buckets/project-x/joesandroid/21st-street/0000000129.jpg >>> /home/joeantol/buckets/project-x/joesandroid/21st-street/unlabled/0000000129.jpg\n",
      "Moving /home/joeantol/buckets/project-x/joesandroid/21st-street/0000000130.jpg >>> /home/joeantol/buckets/project-x/joesandroid/21st-street/unlabled/0000000130.jpg\n",
      "Moving /home/joeantol/buckets/project-x/joesandroid/21st-street/0000000131.jpg >>> /home/joeantol/buckets/project-x/joesandroid/21st-street/unlabled/0000000131.jpg\n",
      "Moving /home/joeantol/buckets/project-x/joesandroid/21st-street/0000000132.jpg >>> /home/joeantol/buckets/project-x/joesandroid/21st-street/unlabled/0000000132.jpg\n",
      "Moving /home/joeantol/buckets/project-x/joesandroid/21st-street/0000000133.jpg >>> /home/joeantol/buckets/project-x/joesandroid/21st-street/unlabled/0000000133.jpg\n",
      "Moving /home/joeantol/buckets/project-x/joesandroid/21st-street/0000000134.jpg >>> /home/joeantol/buckets/project-x/joesandroid/21st-street/unlabled/0000000134.jpg\n",
      "Moving /home/joeantol/buckets/project-x/joesandroid/21st-street/0000000135.jpg >>> /home/joeantol/buckets/project-x/joesandroid/21st-street/unlabled/0000000135.jpg\n",
      "Moving /home/joeantol/buckets/project-x/joesandroid/21st-street/0000000136.jpg >>> /home/joeantol/buckets/project-x/joesandroid/21st-street/unlabled/0000000136.jpg\n",
      "Moving /home/joeantol/buckets/project-x/joesandroid/21st-street/0000000137.jpg >>> /home/joeantol/buckets/project-x/joesandroid/21st-street/unlabled/0000000137.jpg\n",
      "Moving /home/joeantol/buckets/project-x/joesandroid/21st-street/0000000138.jpg >>> /home/joeantol/buckets/project-x/joesandroid/21st-street/unlabled/0000000138.jpg\n",
      "Moving /home/joeantol/buckets/project-x/joesandroid/21st-street/0000000139.jpg >>> /home/joeantol/buckets/project-x/joesandroid/21st-street/unlabled/0000000139.jpg\n",
      "Moving /home/joeantol/buckets/project-x/joesandroid/21st-street/0000000140.jpg >>> /home/joeantol/buckets/project-x/joesandroid/21st-street/unlabled/0000000140.jpg\n",
      "Moving /home/joeantol/buckets/project-x/joesandroid/21st-street/0000000141.jpg >>> /home/joeantol/buckets/project-x/joesandroid/21st-street/unlabled/0000000141.jpg\n",
      "Moving /home/joeantol/buckets/project-x/joesandroid/21st-street/0000000142.jpg >>> /home/joeantol/buckets/project-x/joesandroid/21st-street/unlabled/0000000142.jpg\n",
      "Moving /home/joeantol/buckets/project-x/joesandroid/21st-street/0000000143.jpg >>> /home/joeantol/buckets/project-x/joesandroid/21st-street/unlabled/0000000143.jpg\n",
      "Moving /home/joeantol/buckets/project-x/joesandroid/21st-street/0000000144.jpg >>> /home/joeantol/buckets/project-x/joesandroid/21st-street/unlabled/0000000144.jpg\n",
      "Moving /home/joeantol/buckets/project-x/joesandroid/21st-street/0000000145.jpg >>> /home/joeantol/buckets/project-x/joesandroid/21st-street/unlabled/0000000145.jpg\n",
      "Moving /home/joeantol/buckets/project-x/joesandroid/21st-street/0000000146.jpg >>> /home/joeantol/buckets/project-x/joesandroid/21st-street/unlabled/0000000146.jpg\n",
      "Moving /home/joeantol/buckets/project-x/joesandroid/21st-street/0000000147.jpg >>> /home/joeantol/buckets/project-x/joesandroid/21st-street/unlabled/0000000147.jpg\n",
      "Moving /home/joeantol/buckets/project-x/joesandroid/21st-street/0000000148.jpg >>> /home/joeantol/buckets/project-x/joesandroid/21st-street/unlabled/0000000148.jpg\n",
      "Moving /home/joeantol/buckets/project-x/joesandroid/21st-street/0000000149.jpg >>> /home/joeantol/buckets/project-x/joesandroid/21st-street/unlabled/0000000149.jpg\n",
      "Moving /home/joeantol/buckets/project-x/joesandroid/21st-street/0000000150.jpg >>> /home/joeantol/buckets/project-x/joesandroid/21st-street/unlabled/0000000150.jpg\n",
      "Moving /home/joeantol/buckets/project-x/joesandroid/21st-street/0000000151.jpg >>> /home/joeantol/buckets/project-x/joesandroid/21st-street/unlabled/0000000151.jpg\n"
     ]
    },
    {
     "name": "stdout",
     "output_type": "stream",
     "text": [
      "Moving /home/joeantol/buckets/project-x/joesandroid/21st-street/0000000152.jpg >>> /home/joeantol/buckets/project-x/joesandroid/21st-street/unlabled/0000000152.jpg\n",
      "Moving /home/joeantol/buckets/project-x/joesandroid/21st-street/0000000153.jpg >>> /home/joeantol/buckets/project-x/joesandroid/21st-street/unlabled/0000000153.jpg\n",
      "Moving /home/joeantol/buckets/project-x/joesandroid/21st-street/0000000154.jpg >>> /home/joeantol/buckets/project-x/joesandroid/21st-street/unlabled/0000000154.jpg\n",
      "Moving /home/joeantol/buckets/project-x/joesandroid/21st-street/0000000155.jpg >>> /home/joeantol/buckets/project-x/joesandroid/21st-street/unlabled/0000000155.jpg\n",
      "Moving /home/joeantol/buckets/project-x/joesandroid/21st-street/0000000156.jpg >>> /home/joeantol/buckets/project-x/joesandroid/21st-street/unlabled/0000000156.jpg\n"
     ]
    },
    {
     "ename": "KeyboardInterrupt",
     "evalue": "",
     "output_type": "error",
     "traceback": [
      "\u001b[0;31m---------------------------------------------------------------------------\u001b[0m",
      "\u001b[0;31mOSError\u001b[0m                                   Traceback (most recent call last)",
      "\u001b[0;32m~/python-envs/python363/lib/python3.6/site-packages/IPython/core/interactiveshell.py\u001b[0m in \u001b[0;36mrun_code\u001b[0;34m(self, code_obj, result)\u001b[0m\n\u001b[1;32m   2909\u001b[0m                 \u001b[0;31m#rprint('Running code', repr(code_obj)) # dbg\u001b[0m\u001b[0;34m\u001b[0m\u001b[0;34m\u001b[0m\u001b[0m\n\u001b[0;32m-> 2910\u001b[0;31m                 \u001b[0mexec\u001b[0m\u001b[0;34m(\u001b[0m\u001b[0mcode_obj\u001b[0m\u001b[0;34m,\u001b[0m \u001b[0mself\u001b[0m\u001b[0;34m.\u001b[0m\u001b[0muser_global_ns\u001b[0m\u001b[0;34m,\u001b[0m \u001b[0mself\u001b[0m\u001b[0;34m.\u001b[0m\u001b[0muser_ns\u001b[0m\u001b[0;34m)\u001b[0m\u001b[0;34m\u001b[0m\u001b[0m\n\u001b[0m\u001b[1;32m   2911\u001b[0m             \u001b[0;32mfinally\u001b[0m\u001b[0;34m:\u001b[0m\u001b[0;34m\u001b[0m\u001b[0m\n",
      "\u001b[0;32m<ipython-input-10-d17e45962157>\u001b[0m in \u001b[0;36m<module>\u001b[0;34m()\u001b[0m\n\u001b[1;32m     29\u001b[0m         \u001b[0mprint\u001b[0m\u001b[0;34m(\u001b[0m\u001b[0;34m'Moving '\u001b[0m \u001b[0;34m+\u001b[0m \u001b[0msrc\u001b[0m \u001b[0;34m+\u001b[0m \u001b[0;34m' >>> '\u001b[0m \u001b[0;34m+\u001b[0m \u001b[0mtarget\u001b[0m\u001b[0;34m)\u001b[0m\u001b[0;34m\u001b[0m\u001b[0m\n\u001b[0;32m---> 30\u001b[0;31m         \u001b[0mos\u001b[0m\u001b[0;34m.\u001b[0m\u001b[0mrename\u001b[0m\u001b[0;34m(\u001b[0m\u001b[0msrc\u001b[0m\u001b[0;34m,\u001b[0m \u001b[0mtarget\u001b[0m\u001b[0;34m)\u001b[0m\u001b[0;34m\u001b[0m\u001b[0m\n\u001b[0m\u001b[1;32m     31\u001b[0m \u001b[0;34m\u001b[0m\u001b[0m\n",
      "\u001b[0;31mOSError\u001b[0m: [Errno 5] Input/output error: '/home/joeantol/buckets/project-x/joesandroid/21st-street/0000000156.jpg' -> '/home/joeantol/buckets/project-x/joesandroid/21st-street/unlabled/0000000156.jpg'",
      "\nDuring handling of the above exception, another exception occurred:\n",
      "\u001b[0;31mKeyboardInterrupt\u001b[0m                         Traceback (most recent call last)",
      "\u001b[0;31mKeyboardInterrupt\u001b[0m: "
     ]
    }
   ],
   "source": [
    "src_dir = '/home/joeantol/work/project-x/joesandroid/21st-street'\n",
    "target_dir = os.path.join(src_dir, 'trainval')\n",
    "\n",
    "os.chdir(src_dir)\n",
    "cwd = os.getcwd()\n",
    "\n",
    "label_file = os.path.join(cwd, 'buildinglabels.csv')\n",
    "xref, labels_csv = mp.load_xref(label_file)\n",
    "\n",
    "# os.chdir(os.path.join(cwd, 'trainval'))\n",
    "# cwd = os.getcwd()\n",
    "\n",
    "for rec in labels_csv:\n",
    "#     _, file     = rec[0].split('-')\n",
    "#     address_dir = rec[2] + '-' + rec[1]\n",
    "    \n",
    "    file = rec[0]\n",
    "    address_dir = rec[1]\n",
    "        \n",
    "    address_dir = os.path.join(cwd, 'trainval', address_dir)\n",
    "        \n",
    "    if not os.path.exists(address_dir):\n",
    "        os.makedirs(address_dir)\n",
    "        \n",
    "    src    = os.path.join(cwd, file)\n",
    "    target = os.path.join(cwd, address_dir, file)\n",
    "            \n",
    "    if not os.path.exists(target):\n",
    "        print('Moving ' + src + ' >>> ' + target)\n",
    "        os.rename(src, target)\n",
    "    else:\n",
    "        print('Already moved.  Skipping: ' + target)\n",
    "        \n",
    "    #... Testing    \n",
    "#     if rec[1] == '002-204W21': break"
   ]
  },
  {
   "cell_type": "code",
   "execution_count": null,
   "metadata": {
    "collapsed": true
   },
   "outputs": [],
   "source": []
  },
  {
   "cell_type": "code",
   "execution_count": null,
   "metadata": {
    "collapsed": true
   },
   "outputs": [],
   "source": []
  },
  {
   "cell_type": "code",
   "execution_count": null,
   "metadata": {
    "collapsed": true
   },
   "outputs": [],
   "source": []
  },
  {
   "cell_type": "code",
   "execution_count": null,
   "metadata": {
    "collapsed": true
   },
   "outputs": [],
   "source": []
  },
  {
   "cell_type": "code",
   "execution_count": null,
   "metadata": {
    "collapsed": true
   },
   "outputs": [],
   "source": []
  },
  {
   "cell_type": "code",
   "execution_count": null,
   "metadata": {
    "collapsed": true
   },
   "outputs": [],
   "source": []
  },
  {
   "cell_type": "code",
   "execution_count": null,
   "metadata": {
    "collapsed": true
   },
   "outputs": [],
   "source": []
  },
  {
   "cell_type": "code",
   "execution_count": null,
   "metadata": {
    "collapsed": true
   },
   "outputs": [],
   "source": []
  },
  {
   "cell_type": "code",
   "execution_count": null,
   "metadata": {
    "collapsed": true
   },
   "outputs": [],
   "source": []
  }
 ],
 "metadata": {
  "kernelspec": {
   "display_name": "python363",
   "language": "python",
   "name": "python363"
  },
  "language_info": {
   "codemirror_mode": {
    "name": "ipython",
    "version": 3
   },
   "file_extension": ".py",
   "mimetype": "text/x-python",
   "name": "python",
   "nbconvert_exporter": "python",
   "pygments_lexer": "ipython3",
   "version": "3.6.3"
  }
 },
 "nbformat": 4,
 "nbformat_minor": 2
}
