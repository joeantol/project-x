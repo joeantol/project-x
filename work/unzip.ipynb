{
 "cells": [
  {
   "cell_type": "code",
   "execution_count": null,
   "metadata": {
    "collapsed": true
   },
   "outputs": [],
   "source": [
    "#!/usr/bin/env python"
   ]
  },
  {
   "cell_type": "code",
   "execution_count": 19,
   "metadata": {},
   "outputs": [],
   "source": [
    "import os\n",
    "import re\n",
    "import zipfile"
   ]
  },
  {
   "cell_type": "code",
   "execution_count": 7,
   "metadata": {},
   "outputs": [],
   "source": [
    "file_dir = '/home/joeantol/work/project-x/joesandroid/gunks/trapps'\n",
    "os.chdir(file_dir)"
   ]
  },
  {
   "cell_type": "code",
   "execution_count": 18,
   "metadata": {},
   "outputs": [
    {
     "name": "stdout",
     "output_type": "stream",
     "text": [
      "Moving file: apoplexy-0.zip to apoplexy\n",
      "Extracting: apoplexy-0.zip\n",
      "Moving file: apoplexy-1.zip to apoplexy\n",
      "Extracting: apoplexy-1.zip\n",
      "Moving file: apoplexy-2.zip to apoplexy\n",
      "Extracting: apoplexy-2.zip\n"
     ]
    }
   ],
   "source": [
    "for z in os.listdir():\n",
    "    d = z.split('-')[0]\n",
    "    \n",
    "    if os.path.isdir(z): continue\n",
    "        \n",
    "    os.makedirs(d, exist_ok=True)\n",
    "    \n",
    "    if os.path.isfile(z):\n",
    "        print('Moving file: ' + z + ' to ' + d)\n",
    "        os.rename(z, os.path.join(d,z))\n",
    "        \n",
    "    print('Extracting: ' + z + '\\n')  \n",
    "    with zipfile.ZipFile(os.path.join(d, z),\"r\") as zip_ref:\n",
    "        zip_ref.extractall(d)\n",
    "        \n",
    "        for j in os.listdir(os.path.join(d)):\n",
    "            base, ext = j.split('.')\n",
    "            \n",
    "            #... Don't rename zip files\n",
    "            if ext == 'zip': continue\n",
    "            \n",
    "            if re.search('^[0-9]*', j).group():\n",
    "                os.rename(os.path.join(d,j), os.path.join(d, d + '_' + j))"
   ]
  },
  {
   "cell_type": "code",
   "execution_count": 29,
   "metadata": {},
   "outputs": [
    {
     "name": "stdout",
     "output_type": "stream",
     "text": [
      "Already done...\n"
     ]
    }
   ],
   "source": [
    "# file = '20180310_142154_029.jpg'\n",
    "file = 'doublechin_20180310_142137_030.jpg'\n",
    "m = re.search('^[0-9]*', file)\n",
    "\n",
    "if re.search('^[0-9]*', file).group():\n",
    "    print('Need to rename...')\n",
    "else:\n",
    "    print('Already done...')"
   ]
  },
  {
   "cell_type": "code",
   "execution_count": null,
   "metadata": {},
   "outputs": [],
   "source": []
  },
  {
   "cell_type": "code",
   "execution_count": null,
   "metadata": {},
   "outputs": [],
   "source": []
  },
  {
   "cell_type": "code",
   "execution_count": null,
   "metadata": {},
   "outputs": [],
   "source": []
  }
 ],
 "metadata": {
  "kernelspec": {
   "display_name": "python354",
   "language": "python",
   "name": "python354"
  },
  "language_info": {
   "codemirror_mode": {
    "name": "ipython",
    "version": 3
   },
   "file_extension": ".py",
   "mimetype": "text/x-python",
   "name": "python",
   "nbconvert_exporter": "python",
   "pygments_lexer": "ipython3",
   "version": "3.5.2"
  }
 },
 "nbformat": 4,
 "nbformat_minor": 2
}
