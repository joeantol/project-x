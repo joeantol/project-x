{
 "cells": [
  {
   "cell_type": "code",
   "execution_count": null,
   "metadata": {
    "collapsed": true
   },
   "outputs": [],
   "source": [
    "#!/usr/bin/env python"
   ]
  },
  {
   "cell_type": "code",
   "execution_count": null,
   "metadata": {
    "collapsed": true
   },
   "outputs": [],
   "source": [
    "%reset -f"
   ]
  },
  {
   "cell_type": "code",
   "execution_count": 1,
   "metadata": {
    "collapsed": true
   },
   "outputs": [],
   "source": [
    "from bs4 import BeautifulSoup\n",
    "from selenium import webdriver\n",
    "from selenium.webdriver.common.keys import Keys\n",
    "from pathlib import Path\n",
    "\n",
    "import os\n",
    "import re\n",
    "import requests\n",
    "import urllib"
   ]
  },
  {
   "cell_type": "code",
   "execution_count": null,
   "metadata": {
    "collapsed": true
   },
   "outputs": [],
   "source": [
    "url = 'https://www.mountainproject.com/area/105798167/the-gunks'\n",
    "soup = BeautifulSoup(requests.get(url).content, 'html.parser')"
   ]
  },
  {
   "cell_type": "code",
   "execution_count": null,
   "metadata": {
    "collapsed": true
   },
   "outputs": [],
   "source": [
    "chromedriver = '/Users/AntoliMac01/Anaconda/anaconda/selenium/chromedriver'\n",
    "os.environ[\"webdriver.chrome.driver\"] = chromedriver"
   ]
  },
  {
   "cell_type": "code",
   "execution_count": null,
   "metadata": {
    "collapsed": true
   },
   "outputs": [],
   "source": [
    "dataDir = './dataLarge/'\n",
    "# dataDir = './dataSmall/'\n",
    "\n",
    "routeNameRe = re.compile('([^/?]+)(?=/?(?:$|\\?))')\n",
    "imageNameRe = re.compile('[^/]+(?=/$|$)')\n",
    "\n",
    "lef_nav_rows = soup.find_all('div', {'class' : 'lef-nav-row'})\n",
    "\n",
    "for div in lef_nav_rows:\n",
    "    cliffURL = div.find('a', href=True)['href']\n",
    "    \n",
    "    cliffName = routeNameRe.findall(cliffURL)[0]\n",
    "    cliffDir = dataDir + cliffName + '/'  \n",
    "    \n",
    "    if os.path.isfile(cliffDir + '.done'):\n",
    "        print(cliffName + ' already processed.  Skipping...')\n",
    "        continue\n",
    "\n",
    "    if not os.path.exists(cliffDir):\n",
    "        os.makedirs(cliffDir)\n",
    "\n",
    "    print('cliffURL = ' + cliffURL)\n",
    "          \n",
    "    cliffSoup = BeautifulSoup(requests.get(cliffURL).content, 'html.parser')\n",
    "    lef_nav_rows = cliffSoup.find_all('div', {'class' : 'lef-nav-row'})\n",
    "\n",
    "    for div in lef_nav_rows:\n",
    "        areaURL = div.find('a', href=True)['href']\n",
    "        print('  areaURL = ' + areaURL)\n",
    "\n",
    "        areaSoup = BeautifulSoup(requests.get(areaURL).content, 'html.parser')\n",
    "\n",
    "        for a in areaSoup.find_all('a', href=True):\n",
    "            if a['href'].find('route/') > 0:\n",
    "                routeURL = a['href']\n",
    "                routeName = routeNameRe.findall(routeURL)[0]\n",
    "                routeDir = cliffDir + routeName + '/'  \n",
    "                \n",
    "                if os.path.isfile(routeDir + '.done'):\n",
    "                    print('    ' + routeName + ' already processed. Skipping...')\n",
    "                    continue\n",
    "\n",
    "                if not os.path.exists(routeDir):\n",
    "                    os.makedirs(routeDir)\n",
    "                \n",
    "                print('    routeURL = ' + routeURL)\n",
    "\n",
    "                #... Keep going if there's no 'More Photos' button\n",
    "                try:  \n",
    "                    driver = webdriver.Chrome(chromedriver)\n",
    "                    driver.get(routeURL)\n",
    "                    more_photos_button = driver.find_element_by_id('more-photos-button')\n",
    "                    more_photos_button.send_keys(Keys.ENTER)\n",
    "                except:\n",
    "                    pass\n",
    "\n",
    "                routeSoup = BeautifulSoup(requests.get(routeURL).content, 'html.parser')\n",
    "\n",
    "                driver.close()\n",
    "\n",
    "                for link in routeSoup.find_all('img'):\n",
    "                    imageURL = link.get(\"data-original\")\n",
    "\n",
    "                    if imageURL != None and imageURL.rfind('cdn-files') > 0:\n",
    "                        if re.search('dataLarge', dataDir):\n",
    "                            imageURL = imageURL.replace('smallMed', 'medium')\n",
    "\n",
    "                        imageName = routeDir + imageNameRe.findall(imageURL)[0]\n",
    "                            \n",
    "                        req = requests.get(imageURL)\n",
    "                        with open(imageName , \"wb\") as fb:\n",
    "                            fb.write(req.content)\n",
    "                            \n",
    "                #... Touch a file so we don't reprocess\n",
    "                Path(routeDir + '.done').touch()\n",
    "    \n",
    "    #... Touch a file so we don't reprocess\n",
    "    Path(cliffDir + '.done').touch()\n",
    "    \n",
    "print('All done...')\n"
   ]
  },
  {
   "cell_type": "code",
   "execution_count": null,
   "metadata": {
    "collapsed": true
   },
   "outputs": [],
   "source": []
  },
  {
   "cell_type": "code",
   "execution_count": null,
   "metadata": {
    "collapsed": true
   },
   "outputs": [],
   "source": []
  },
  {
   "cell_type": "code",
   "execution_count": null,
   "metadata": {
    "collapsed": true
   },
   "outputs": [],
   "source": []
  },
  {
   "cell_type": "code",
   "execution_count": null,
   "metadata": {
    "collapsed": true
   },
   "outputs": [],
   "source": []
  },
  {
   "cell_type": "code",
   "execution_count": null,
   "metadata": {
    "collapsed": true
   },
   "outputs": [],
   "source": [
    "    "
   ]
  },
  {
   "cell_type": "code",
   "execution_count": null,
   "metadata": {
    "collapsed": true
   },
   "outputs": [],
   "source": []
  },
  {
   "cell_type": "code",
   "execution_count": null,
   "metadata": {
    "collapsed": true
   },
   "outputs": [],
   "source": []
  }
 ],
 "metadata": {
  "kernelspec": {
   "display_name": "python363",
   "language": "python",
   "name": "python363"
  },
  "language_info": {
   "codemirror_mode": {
    "name": "ipython",
    "version": 3
   },
   "file_extension": ".py",
   "mimetype": "text/x-python",
   "name": "python",
   "nbconvert_exporter": "python",
   "pygments_lexer": "ipython3",
   "version": "3.6.3"
  }
 },
 "nbformat": 4,
 "nbformat_minor": 2
}
