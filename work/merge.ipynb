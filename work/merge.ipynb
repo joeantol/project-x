{
 "cells": [
  {
   "cell_type": "code",
   "execution_count": null,
   "metadata": {},
   "outputs": [],
   "source": [
    "#!/usr/bin/env python"
   ]
  },
  {
   "cell_type": "code",
   "execution_count": 2,
   "metadata": {},
   "outputs": [],
   "source": [
    "import argparse\n",
    "import os"
   ]
  },
  {
   "cell_type": "code",
   "execution_count": 3,
   "metadata": {},
   "outputs": [],
   "source": [
    "data_dir    = os.path.join(os.getcwd(), 'data')"
   ]
  },
  {
   "cell_type": "code",
   "execution_count": 4,
   "metadata": {},
   "outputs": [
    {
     "name": "stdout",
     "output_type": "stream",
     "text": [
      "Args: -t=gunks/trapps -a=1.0 -g=0.2 -m=union\n",
      "\n",
      "In Jupyter..\n",
      "\n",
      "Target Dir: /home/joeantol/joeantolwork/project-x/data/union/gunks/trapps\n",
      "Android Dir: /home/joeantol/joeantolwork/project-x/data/android/gunks/trapps\n",
      "GoPro Dir:/home/joeantol/joeantolwork/project-x/data/gopro/gunks/trapps\n"
     ]
    }
   ],
   "source": [
    "args = ['-t=gunks/trapps', '-a=1.0', '-g=0.2', '-m=union']\n",
    "print('Args: ' + ' '.join(args) + '\\n')\n",
    "\n",
    "parser = argparse.ArgumentParser()\n",
    "\n",
    "parser.add_argument('--akeep', '-a', default=1.0)\n",
    "parser.add_argument('--gkeep', '-g', default=1.0)\n",
    "parser.add_argument('--merge', '-m', default='union')\n",
    "parser.add_argument('--targetdir', '-t')\n",
    "\n",
    "try:\n",
    "    get_ipython().__class__.__name__\n",
    "    args = parser.parse_args(args)\n",
    "    print('In Jupyter..\\n')\n",
    "except:\n",
    "    args = parser.parse_args()\n",
    "    print('NOT in Jupyter...\\n')\n",
    "\n",
    "akeep = float(args.akeep)\n",
    "gkeep = float(args.gkeep)\n",
    "merge = args.merge #... Used to name dir with merged image files\n",
    "\n",
    "target_dir   = os.path.join(os.path.join(data_dir, merge), args.targetdir.strip())\n",
    "android_dir  = os.path.join(os.path.join(data_dir, 'android'), args.targetdir.strip())\n",
    "gopro_dir    = os.path.join(os.path.join(data_dir, 'gopro'), args.targetdir.strip())\n",
    "\n",
    "print(\"Target Dir: \" + target_dir)\n",
    "print(\"Android Dir: \" + android_dir)\n",
    "print(\"GoPro Dir:\" + gopro_dir)"
   ]
  },
  {
   "cell_type": "code",
   "execution_count": null,
   "metadata": {},
   "outputs": [],
   "source": [
    "android_dirs = sorted(os.listdir(android_dir))\n",
    "gopro_dirs   = sorted(os.listdir(gopro_dir))\n",
    "\n",
    "if os.path.exists(os.path.join(android_dir, 'trainval')):\n",
    "    android_dirs.remove('trainval')\n",
    "if os.path.exists(os.path.join(android_dir, 'unlabeled')):\n",
    "    android_dirs.remove('unlabeled')\n",
    "if os.path.exists(os.path.join(gopro_dir, 'trainval')):\n",
    "    gopro_dirs.remove('trainval')\n",
    "    \n",
    "#... Intersection or union\n",
    "if merge == 'inter':\n",
    "    target_dirs = sorted(list(set(android_dirs).intersection(gopro_dirs)))\n",
    "elif merge == 'union' :\n",
    "    target_dirs = sorted(list(set(android_dirs).union(gopro_dirs)))\n",
    "else:\n",
    "    print(\"The --merge option must be 'inter' or 'union'\")\n",
    "    exit\n",
    "    \n",
    "for d in target_dirs:\n",
    "    os.makedirs(os.path.join(target_dir, d), exist_ok=True)"
   ]
  },
  {
   "cell_type": "code",
   "execution_count": null,
   "metadata": {
    "collapsed": true
   },
   "outputs": [],
   "source": []
  },
  {
   "cell_type": "code",
   "execution_count": null,
   "metadata": {
    "collapsed": true
   },
   "outputs": [],
   "source": [
    "for addr in android_dirs:\n",
    "    \n",
    "    i = 0\n",
    "    \n",
    "    if not addr in target_dirs: continue\n",
    "        \n",
    "    address_dir = os.path.join(target_dir, target_dirs[target_dirs.index(addr)])\n",
    "    src_dir    = os.path.join(android_dir, addr)\n",
    "    \n",
    "    for jpg in os.listdir(os.path.join(android_dir, addr)):\n",
    "        \n",
    "        i += 1\n",
    "        \n",
    "        if i % (1.0/akeep) == 0:\n",
    "            link = os.path.join(address_dir, jpg)\n",
    "            src  = os.path.join(src_dir, jpg)\n",
    "\n",
    "            if not os.path.islink(link):\n",
    "                try:\n",
    "                    print(src, link)\n",
    "                    os.symlink(src, link)\n",
    "                except:\n",
    "                    print('ERROR: Could not create link: ' + src, link)"
   ]
  },
  {
   "cell_type": "code",
   "execution_count": null,
   "metadata": {},
   "outputs": [],
   "source": [
    "for addr in gopro_dirs:\n",
    "    \n",
    "    i = 0\n",
    "    \n",
    "    if not addr in target_dirs: continue\n",
    "    \n",
    "    address_dir = os.path.join(target_dir, target_dirs[target_dirs.index(addr)])\n",
    "    src_dir    = os.path.join(gopro_dir, addr)\n",
    "    \n",
    "    for jpg in os.listdir(os.path.join(gopro_dir, addr)):\n",
    "        \n",
    "        i += 1\n",
    "        \n",
    "        if i % (1.0/gkeep) == 0:\n",
    "            link = os.path.join(address_dir, jpg)\n",
    "            src  = os.path.join(src_dir, jpg)\n",
    "\n",
    "            if not os.path.islink(link):\n",
    "                try:\n",
    "                    print(src, link)\n",
    "                    os.symlink(src, link)\n",
    "                except:\n",
    "                    print('ERROR: Could not create link: ' + src, link)"
   ]
  },
  {
   "cell_type": "code",
   "execution_count": null,
   "metadata": {},
   "outputs": [],
   "source": [
    "print(\"Successful completion of merge...\")"
   ]
  }
 ],
 "metadata": {
  "kernelspec": {
   "display_name": "python354",
   "language": "python",
   "name": "python354"
  },
  "language_info": {
   "codemirror_mode": {
    "name": "ipython",
    "version": 3
   },
   "file_extension": ".py",
   "mimetype": "text/x-python",
   "name": "python",
   "nbconvert_exporter": "python",
   "pygments_lexer": "ipython3",
   "version": "3.5.2"
  }
 },
 "nbformat": 4,
 "nbformat_minor": 2
}
